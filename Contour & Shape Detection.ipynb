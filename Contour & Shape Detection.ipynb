{
 "cells": [
  {
   "cell_type": "code",
   "execution_count": 2,
   "metadata": {},
   "outputs": [],
   "source": [
    "import cv2\n",
    "import numpy as np"
   ]
  },
  {
   "cell_type": "code",
   "execution_count": 3,
   "metadata": {},
   "outputs": [
    {
     "data": {
      "text/plain": [
       "True"
      ]
     },
     "execution_count": 3,
     "metadata": {},
     "output_type": "execute_result"
    }
   ],
   "source": [
    "#Import Image\n",
    "img = cv2.imread(\"resource/shapes.jpg\")\n",
    "\n",
    "#Resize Image\n",
    "imgResize = cv2.resize(img, (600, 300))\n",
    "\n",
    "#Cropped Image\n",
    "imgCropped = imgResize[120:300, 0:600]\n",
    "\n",
    "#Show Image\n",
    "cv2.imshow(\"Shapes\", imgCropped)\n",
    "cv2.waitKey(0)\n",
    "\n",
    "cv2.imwrite(\"resource/shapes_resize.jpg\", imgCropped)"
   ]
  },
  {
   "cell_type": "code",
   "execution_count": 4,
   "metadata": {},
   "outputs": [
    {
     "data": {
      "text/plain": [
       "-1"
      ]
     },
     "execution_count": 4,
     "metadata": {},
     "output_type": "execute_result"
    }
   ],
   "source": [
    "#Import New Image\n",
    "img = cv2.imread(\"resource/shapes_resize.jpg\")\n",
    "\n",
    "#Show Image\n",
    "cv2.imshow(\"Shapes\", img)\n",
    "cv2.waitKey(0)"
   ]
  },
  {
   "cell_type": "markdown",
   "metadata": {},
   "source": [
    "# Preprocessing"
   ]
  },
  {
   "cell_type": "code",
   "execution_count": 10,
   "metadata": {},
   "outputs": [
    {
     "data": {
      "text/plain": [
       "-1"
      ]
     },
     "execution_count": 10,
     "metadata": {},
     "output_type": "execute_result"
    }
   ],
   "source": [
    "#Create Copy Image from Original\n",
    "imgContour = img.copy()\n",
    "\n",
    "#Gray Scale\n",
    "imgGray = cv2.cvtColor(img, cv2.COLOR_BGR2GRAY)\n",
    "\n",
    "#Blur\n",
    "imgBlur = cv2.GaussianBlur(imgGray, (7,7), 1)\n",
    "\n",
    "#Detect Edge\n",
    "imgCanny = cv2.Canny(imgBlur, 50, 50)\n",
    " \n",
    "cv2.imshow(\"Gray\", imgGray)\n",
    "cv2.imshow(\"Blur\", imgBlur)\n",
    "cv2.imshow(\"Canny\", imgCanny)\n",
    "cv2.waitKey(0)"
   ]
  },
  {
   "cell_type": "code",
   "execution_count": 12,
   "metadata": {},
   "outputs": [
    {
     "name": "stdout",
     "output_type": "stream",
     "text": [
      "8110.5\n",
      "7\n",
      "5271.5\n",
      "3\n",
      "10655.0\n",
      "4\n",
      "17166.0\n",
      "4\n"
     ]
    },
    {
     "data": {
      "text/plain": [
       "-1"
      ]
     },
     "execution_count": 12,
     "metadata": {},
     "output_type": "execute_result"
    }
   ],
   "source": [
    "#Define Function to find Contour\n",
    "def getContours(img):\n",
    "    contours, hierarchy = cv2.findContours(img, cv2.RETR_EXTERNAL,cv2.CHAIN_APPROX_NONE) #Find all contours with external method\n",
    "    for cnt in contours:\n",
    "        area = cv2.contourArea(cnt) \n",
    "        print(area)\n",
    "        \n",
    "        #Check minimum area for calculation\n",
    "        if area > 500:\n",
    "            cv2.drawContours(imgContour, cnt, -1, (0,0,0),3)\n",
    "            peri = cv2.arcLength(cnt, True) #to find contour parameter\n",
    "            approx = cv2.approxPolyDP(cnt, 0.04*peri,True) #to find points of the shape\n",
    "            print(len(approx))\n",
    "            objCor = len(approx)\n",
    "            \n",
    "            #Define Object Shape\n",
    "            if objCor == 3:\n",
    "                objectType = \"Tri\"\n",
    "            elif objCor ==4:\n",
    "                aspRatio = w/float(h)\n",
    "                if (aspRatio >= 0.95) and (aspRatio <= 1.05):\n",
    "                    objectType = \"Square\"\n",
    "                else:\n",
    "                    objectType = \"Rectangle\"\n",
    "            else:\n",
    "                objectType = \"Circle\"\n",
    "           \n",
    "            \n",
    "            #Create Bounding Box\n",
    "            x, y, w, h = cv2.boundingRect(approx)\n",
    "            \n",
    "            #Draw Rectangle Boundary\n",
    "            cv2.rectangle(imgContour, (x,y), (x+w, y+h), (0,255,0),2)\n",
    "            \n",
    "            #Put text in object\n",
    "            cv2.putText(imgContour, objectType, (x+(w//2)-10, y+(h//2)-10), cv2.FONT_HERSHEY_COMPLEX,0.5,(196,90,236), 1)\n",
    "\n",
    "getContours(imgCanny)\n",
    "\n",
    "Result = cv2.vconcat([img, imgContour])\n",
    "\n",
    "cv2.imshow(\"Result\", Result)\n",
    "cv2.waitKey(0)"
   ]
  },
  {
   "cell_type": "code",
   "execution_count": null,
   "metadata": {},
   "outputs": [],
   "source": []
  }
 ],
 "metadata": {
  "kernelspec": {
   "display_name": "Python 3",
   "language": "python",
   "name": "python3"
  },
  "language_info": {
   "codemirror_mode": {
    "name": "ipython",
    "version": 3
   },
   "file_extension": ".py",
   "mimetype": "text/x-python",
   "name": "python",
   "nbconvert_exporter": "python",
   "pygments_lexer": "ipython3",
   "version": "3.7.3"
  }
 },
 "nbformat": 4,
 "nbformat_minor": 2
}
